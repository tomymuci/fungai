{
 "cells": [
  {
   "cell_type": "code",
   "execution_count": 18,
   "metadata": {},
   "outputs": [
    {
     "data": {
      "text/plain": [
       "'Agaricus Iodosmus'"
      ]
     },
     "execution_count": 18,
     "metadata": {},
     "output_type": "execute_result"
    }
   ],
   "source": [
    "import os\n",
    "from PIL import Image\n",
    "\n",
    "predicted_genus = \"Agaricus\"\n",
    "dir1 = f'images_for_app/Genus pictures/{predicted_genus}'\n",
    "images = os.listdir(dir1)\n",
    "image_name1 = images[0]\n",
    "image_name1.replace('.jpeg', '').replace('_', ' ').title()"
   ]
  },
  {
   "cell_type": "code",
   "execution_count": 19,
   "metadata": {},
   "outputs": [
    {
     "data": {
      "text/plain": [
       "'Agaricus is the most common genus of mushroom in the world.\\n    It contains both edible and non-edible/poisonous species, with over 400+\\n    different varieties across the world. Its most notable contribution to dinner\\n    tables across the world is Agaricus Bisporus, known by many names including Cremini\\n    mushrooms, White Button mushrooms, Champignon, Baby Bella, and Portobello mushrooms.  '"
      ]
     },
     "execution_count": 19,
     "metadata": {},
     "output_type": "execute_result"
    }
   ],
   "source": [
    "from data import all_info_tables\n",
    "all_info_tables[f'{predicted_genus}']"
   ]
  },
  {
   "cell_type": "code",
   "execution_count": 22,
   "metadata": {},
   "outputs": [],
   "source": [
    "import requests"
   ]
  },
  {
   "cell_type": "code",
   "execution_count": 24,
   "metadata": {},
   "outputs": [],
   "source": [
    "url = 'http://localhost:8000/predict'\n",
    "params = {\n",
    "'new_image': None\n",
    "}\n",
    "response = requests.get(url, params=params)\n",
    "genuses = response.json()['genuses']"
   ]
  },
  {
   "cell_type": "code",
   "execution_count": 25,
   "metadata": {},
   "outputs": [
    {
     "name": "stdout",
     "output_type": "stream",
     "text": [
      "Agaricus 0.0\n",
      "Amanita 0.0\n",
      "Boletus 0.0\n",
      "Cortinarius 0.0\n",
      "Entoloma 0.0\n",
      "Hygrocybe 1.0\n",
      "Lactarius 0.0\n",
      "Russula 0.0\n",
      "Suillus 0.0\n"
     ]
    }
   ],
   "source": [
    "for key, value in genuses.items():\n",
    "    print(key, value)"
   ]
  },
  {
   "cell_type": "code",
   "execution_count": 32,
   "metadata": {},
   "outputs": [
    {
     "data": {
      "text/plain": [
       "['Hygrocybe']"
      ]
     },
     "execution_count": 32,
     "metadata": {},
     "output_type": "execute_result"
    }
   ],
   "source": [
    "[key for key, value in genuses.items() if float(value)==1.0]"
   ]
  },
  {
   "cell_type": "code",
   "execution_count": 33,
   "metadata": {},
   "outputs": [
    {
     "data": {
      "text/plain": [
       "{'genuses': {'Agaricus': '0.0',\n",
       "  'Amanita': '0.0',\n",
       "  'Boletus': '0.0',\n",
       "  'Cortinarius': '0.0',\n",
       "  'Entoloma': '0.0',\n",
       "  'Hygrocybe': '1.0',\n",
       "  'Lactarius': '0.0',\n",
       "  'Russula': '0.0',\n",
       "  'Suillus': '0.0'}}"
      ]
     },
     "execution_count": 33,
     "metadata": {},
     "output_type": "execute_result"
    }
   ],
   "source": [
    "url = 'http://localhost:8000/predict'\n",
    "params = {\n",
    "'new_image': None\n",
    "}\n",
    "response = requests.get(url, params=params)\n",
    "response.json()"
   ]
  }
 ],
 "metadata": {
  "kernelspec": {
   "display_name": "Python 3.10.6 64-bit ('shims')",
   "language": "python",
   "name": "python3"
  },
  "language_info": {
   "codemirror_mode": {
    "name": "ipython",
    "version": 3
   },
   "file_extension": ".py",
   "mimetype": "text/x-python",
   "name": "python",
   "nbconvert_exporter": "python",
   "pygments_lexer": "ipython3",
   "version": "3.10.6"
  },
  "orig_nbformat": 4,
  "vscode": {
   "interpreter": {
    "hash": "45f0845a85c81aa257d06a44f084e0d5438382a515ed4642de7a9174584fe4ed"
   }
  }
 },
 "nbformat": 4,
 "nbformat_minor": 2
}
