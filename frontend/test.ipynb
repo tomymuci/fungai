{
 "cells": [
  {
   "cell_type": "code",
   "execution_count": 18,
   "metadata": {},
   "outputs": [
    {
     "data": {
      "text/plain": [
       "'Agaricus Iodosmus'"
      ]
     },
     "execution_count": 18,
     "metadata": {},
     "output_type": "execute_result"
    }
   ],
   "source": [
    "import os\n",
    "from PIL import Image\n",
    "\n",
    "predicted_genus = \"Agaricus\"\n",
    "dir1 = f'images_for_app/Genus pictures/{predicted_genus}'\n",
    "images = os.listdir(dir1)\n",
    "image_name1 = images[0]\n",
    "image_name1.replace('.jpeg', '').replace('_', ' ').title()"
   ]
  },
  {
   "cell_type": "code",
   "execution_count": 19,
   "metadata": {},
   "outputs": [
    {
     "data": {
      "text/plain": [
       "'Agaricus is the most common genus of mushroom in the world.\\n    It contains both edible and non-edible/poisonous species, with over 400+\\n    different varieties across the world. Its most notable contribution to dinner\\n    tables across the world is Agaricus Bisporus, known by many names including Cremini\\n    mushrooms, White Button mushrooms, Champignon, Baby Bella, and Portobello mushrooms.  '"
      ]
     },
     "execution_count": 19,
     "metadata": {},
     "output_type": "execute_result"
    }
   ],
   "source": [
    "from data import all_info_tables\n",
    "all_info_tables[f'{predicted_genus}']"
   ]
  },
  {
   "cell_type": "code",
   "execution_count": 5,
   "metadata": {},
   "outputs": [
    {
     "name": "stdout",
     "output_type": "stream",
     "text": [
      "/Users/leonardlink/code/tomymuci/fungai/frontend\n"
     ]
    }
   ],
   "source": [
    "!pwd"
   ]
  }
 ],
 "metadata": {
  "kernelspec": {
   "display_name": "Python 3.10.6 64-bit ('shims')",
   "language": "python",
   "name": "python3"
  },
  "language_info": {
   "codemirror_mode": {
    "name": "ipython",
    "version": 3
   },
   "file_extension": ".py",
   "mimetype": "text/x-python",
   "name": "python",
   "nbconvert_exporter": "python",
   "pygments_lexer": "ipython3",
   "version": "3.10.6"
  },
  "orig_nbformat": 4,
  "vscode": {
   "interpreter": {
    "hash": "45f0845a85c81aa257d06a44f084e0d5438382a515ed4642de7a9174584fe4ed"
   }
  }
 },
 "nbformat": 4,
 "nbformat_minor": 2
}
